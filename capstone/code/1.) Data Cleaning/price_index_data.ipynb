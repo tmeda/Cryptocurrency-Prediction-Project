{
 "cells": [
  {
   "cell_type": "code",
   "execution_count": 1,
   "id": "628f6dbb-36fe-4bd8-acd9-5953b42856f0",
   "metadata": {},
   "outputs": [],
   "source": [
    "import pandas as pd"
   ]
  },
  {
   "cell_type": "code",
   "execution_count": 2,
   "id": "307fb4f4-a135-40e0-bb3c-75d9a2fa7cfe",
   "metadata": {},
   "outputs": [],
   "source": [
    "#importing the data\n",
    "bit=pd.read_csv('../../data/price_index_data/BTC_USD_2014-11-04_2021-09-15-CoinDesk.csv')\n",
    "eth=pd.read_csv('../../data/price_index_data/ETH_USD_2016-12-17_2021-09-15-CoinDesk.csv')\n",
    "bnb=pd.read_csv('../../data/price_index_data/BNB-USD.csv')\n",
    "ada=pd.read_csv('../../data/price_index_data/ADA-USD.csv')\n",
    "dow=pd.read_csv('../../data/price_index_data/DowHistoricalPrices.csv')\n",
    "snp=pd.read_csv('../../data/price_index_data/SP500HistoricalData_1631768361281.csv')\n",
    "nas=pd.read_csv('../../data/price_index_data/NASDAQHistoricalPrices.csv')\n",
    "nvda=pd.read_csv('../../data/price_index_data/NVDA.csv')\n",
    "amd=pd.read_csv('../../data/price_index_data/AMD.csv')"
   ]
  },
  {
   "cell_type": "code",
   "execution_count": 3,
   "id": "5324241c-e516-48c7-916e-74b3980504cd",
   "metadata": {},
   "outputs": [],
   "source": [
    "def column_status(data):\n",
    "    print(\"Index\",'Columns')\n",
    "    for i,j in data.items():\n",
    "       print(i,':',list(j.columns))"
   ]
  },
  {
   "cell_type": "code",
   "execution_count": 4,
   "id": "32d3feb4-e1a3-4253-8258-48918c642762",
   "metadata": {},
   "outputs": [
    {
     "name": "stdout",
     "output_type": "stream",
     "text": [
      "Index Columns\n",
      "bit : ['Currency', 'Date', 'Closing Price (USD)', '24h Open (USD)', '24h High (USD)', '24h Low (USD)']\n",
      "eth : ['Currency', 'Date', 'Closing Price (USD)', '24h Open (USD)', '24h High (USD)', '24h Low (USD)']\n",
      "bnb : ['Date', 'Open', 'High', 'Low', 'Close', 'Adj Close', 'Volume']\n",
      "ada : ['Date', 'Open', 'High', 'Low', 'Close', 'Adj Close', 'Volume']\n",
      "dow : ['Date', ' Open', ' High', ' Low', ' Close']\n",
      "nvda : ['Date', 'Open', 'High', 'Low', 'Close', 'Adj Close', 'Volume']\n",
      "snp : ['Date', 'Close/Last', 'Volume', 'Open', 'High', 'Low']\n",
      "nas : ['Date', ' Open', ' High', ' Low', ' Close']\n",
      "amd : ['Date', 'Open', 'High', 'Low', 'Close', 'Adj Close', 'Volume']\n"
     ]
    }
   ],
   "source": [
    "#making a dictionary of dataframes\n",
    "data={\"bit\":bit,\"eth\":eth,\"bnb\":bnb,\"ada\":ada,\"dow\":dow,\"nvda\":nvda,\"snp\":snp,\"nas\":nas,\"amd\":amd}\n",
    "column_status(data)"
   ]
  },
  {
   "cell_type": "markdown",
   "id": "bc3554ed-21b5-41a3-b50b-834856141d22",
   "metadata": {},
   "source": [
    "Based on the output above, our data has a lot of columns. To make thing easier I will only keep the open price, the close price and the date for each index. I periodically print out the columns for each dataframe to get a sense of where I am and what I need to do next."
   ]
  },
  {
   "cell_type": "code",
   "execution_count": 5,
   "id": "874fc806-e244-4184-9318-97f537bc58d1",
   "metadata": {},
   "outputs": [],
   "source": [
    "#**RENAMING COLUMNS IN DATAFRAMES**\n",
    "\n",
    "#formating the column names\n",
    "for i,j in data.items():\n",
    "    temp=[]\n",
    "    for k in list(j.columns):\n",
    "        k=k.replace(' ','_').lower() #removing spaces\n",
    "        if k[0]=='_':\n",
    "            k=k[1:].lower() #making sure column names dont start with an underscore\n",
    "        if '/' in k:\n",
    "            k=k[:k.find('/')].lower() #removing backslashes\n",
    "        temp.append(k)\n",
    "    j.columns=temp"
   ]
  },
  {
   "cell_type": "code",
   "execution_count": 6,
   "id": "30429a7f-b1b2-48bc-9406-79a21af30c58",
   "metadata": {},
   "outputs": [
    {
     "name": "stdout",
     "output_type": "stream",
     "text": [
      "Index Columns\n",
      "bit : ['currency', 'date', 'closing_price_(usd)', '24h_open_(usd)', '24h_high_(usd)', '24h_low_(usd)']\n",
      "eth : ['currency', 'date', 'closing_price_(usd)', '24h_open_(usd)', '24h_high_(usd)', '24h_low_(usd)']\n",
      "bnb : ['date', 'open', 'high', 'low', 'close', 'adj_close', 'volume']\n",
      "ada : ['date', 'open', 'high', 'low', 'close', 'adj_close', 'volume']\n",
      "dow : ['date', 'open', 'high', 'low', 'close']\n",
      "nvda : ['date', 'open', 'high', 'low', 'close', 'adj_close', 'volume']\n",
      "snp : ['date', 'close', 'volume', 'open', 'high', 'low']\n",
      "nas : ['date', 'open', 'high', 'low', 'close']\n",
      "amd : ['date', 'open', 'high', 'low', 'close', 'adj_close', 'volume']\n"
     ]
    }
   ],
   "source": [
    "column_status(data)"
   ]
  },
  {
   "cell_type": "code",
   "execution_count": 7,
   "id": "2281e106-6ff7-442c-a7bd-4d38fcde6055",
   "metadata": {},
   "outputs": [],
   "source": [
    "#changing the column names of the dataframes\n",
    "for i,j in data.items():\n",
    "    for k in [cols for cols in j.columns if '_' in cols]:\n",
    "        if 'open' in k:\n",
    "            j['open']=j[k]\n",
    "        if ('closing' in k):\n",
    "            j['close']=j[k]"
   ]
  },
  {
   "cell_type": "code",
   "execution_count": 8,
   "id": "42605e14-94ce-49f6-a5c3-30d3525a6aae",
   "metadata": {},
   "outputs": [
    {
     "name": "stdout",
     "output_type": "stream",
     "text": [
      "Index Columns\n",
      "bit : ['currency', 'date', 'closing_price_(usd)', '24h_open_(usd)', '24h_high_(usd)', '24h_low_(usd)', 'close', 'open']\n",
      "eth : ['currency', 'date', 'closing_price_(usd)', '24h_open_(usd)', '24h_high_(usd)', '24h_low_(usd)', 'close', 'open']\n",
      "bnb : ['date', 'open', 'high', 'low', 'close', 'adj_close', 'volume']\n",
      "ada : ['date', 'open', 'high', 'low', 'close', 'adj_close', 'volume']\n",
      "dow : ['date', 'open', 'high', 'low', 'close']\n",
      "nvda : ['date', 'open', 'high', 'low', 'close', 'adj_close', 'volume']\n",
      "snp : ['date', 'close', 'volume', 'open', 'high', 'low']\n",
      "nas : ['date', 'open', 'high', 'low', 'close']\n",
      "amd : ['date', 'open', 'high', 'low', 'close', 'adj_close', 'volume']\n"
     ]
    }
   ],
   "source": [
    "column_status(data)"
   ]
  },
  {
   "cell_type": "code",
   "execution_count": 9,
   "id": "b9a28e91-4747-4c95-bcbd-fdccda68fa6f",
   "metadata": {},
   "outputs": [],
   "source": [
    "#making sure all the dataframes have the same columns:\n",
    "cols=['date','open', 'close']\n",
    "for i,j in data.items():\n",
    "    data[i]=j[cols]"
   ]
  },
  {
   "cell_type": "code",
   "execution_count": 10,
   "id": "46713544-b365-4db8-9af2-6653c06f1a93",
   "metadata": {},
   "outputs": [
    {
     "name": "stdout",
     "output_type": "stream",
     "text": [
      "Index Columns\n",
      "bit : ['date', 'open', 'close']\n",
      "eth : ['date', 'open', 'close']\n",
      "bnb : ['date', 'open', 'close']\n",
      "ada : ['date', 'open', 'close']\n",
      "dow : ['date', 'open', 'close']\n",
      "nvda : ['date', 'open', 'close']\n",
      "snp : ['date', 'open', 'close']\n",
      "nas : ['date', 'open', 'close']\n",
      "amd : ['date', 'open', 'close']\n"
     ]
    }
   ],
   "source": [
    "column_status(data)"
   ]
  },
  {
   "cell_type": "code",
   "execution_count": 11,
   "id": "1322931c-ad71-4335-ac37-1a3877a12ea1",
   "metadata": {},
   "outputs": [],
   "source": [
    "for i,j in data.items():\n",
    "    j.columns=['date',f'{i}_open', f'{i}_close']"
   ]
  },
  {
   "cell_type": "code",
   "execution_count": 12,
   "id": "92c294c7-3231-4aa0-9c41-c2362b2bb2e3",
   "metadata": {},
   "outputs": [
    {
     "name": "stdout",
     "output_type": "stream",
     "text": [
      "<class 'pandas.core.frame.DataFrame'>\n",
      "RangeIndex: 2508 entries, 0 to 2507\n",
      "Data columns (total 3 columns):\n",
      " #   Column     Non-Null Count  Dtype  \n",
      "---  ------     --------------  -----  \n",
      " 0   date       2508 non-null   object \n",
      " 1   bit_open   2508 non-null   float64\n",
      " 2   bit_close  2508 non-null   float64\n",
      "dtypes: float64(2), object(1)\n",
      "memory usage: 58.9+ KB\n",
      "None\n",
      "****************************************\n",
      "<class 'pandas.core.frame.DataFrame'>\n",
      "RangeIndex: 1734 entries, 0 to 1733\n",
      "Data columns (total 3 columns):\n",
      " #   Column     Non-Null Count  Dtype  \n",
      "---  ------     --------------  -----  \n",
      " 0   date       1734 non-null   object \n",
      " 1   eth_open   1734 non-null   float64\n",
      " 2   eth_close  1734 non-null   float64\n",
      "dtypes: float64(2), object(1)\n",
      "memory usage: 40.8+ KB\n",
      "None\n",
      "****************************************\n",
      "<class 'pandas.core.frame.DataFrame'>\n",
      "RangeIndex: 1535 entries, 0 to 1534\n",
      "Data columns (total 3 columns):\n",
      " #   Column     Non-Null Count  Dtype  \n",
      "---  ------     --------------  -----  \n",
      " 0   date       1535 non-null   object \n",
      " 1   bnb_open   1531 non-null   float64\n",
      " 2   bnb_close  1531 non-null   float64\n",
      "dtypes: float64(2), object(1)\n",
      "memory usage: 36.1+ KB\n",
      "None\n",
      "****************************************\n",
      "<class 'pandas.core.frame.DataFrame'>\n",
      "RangeIndex: 1467 entries, 0 to 1466\n",
      "Data columns (total 3 columns):\n",
      " #   Column     Non-Null Count  Dtype  \n",
      "---  ------     --------------  -----  \n",
      " 0   date       1467 non-null   object \n",
      " 1   ada_open   1463 non-null   float64\n",
      " 2   ada_close  1463 non-null   float64\n",
      "dtypes: float64(2), object(1)\n",
      "memory usage: 34.5+ KB\n",
      "None\n",
      "****************************************\n",
      "<class 'pandas.core.frame.DataFrame'>\n",
      "RangeIndex: 1942 entries, 0 to 1941\n",
      "Data columns (total 3 columns):\n",
      " #   Column     Non-Null Count  Dtype  \n",
      "---  ------     --------------  -----  \n",
      " 0   date       1942 non-null   object \n",
      " 1   dow_open   1942 non-null   float64\n",
      " 2   dow_close  1942 non-null   float64\n",
      "dtypes: float64(2), object(1)\n",
      "memory usage: 45.6+ KB\n",
      "None\n",
      "****************************************\n",
      "<class 'pandas.core.frame.DataFrame'>\n",
      "RangeIndex: 5700 entries, 0 to 5699\n",
      "Data columns (total 3 columns):\n",
      " #   Column      Non-Null Count  Dtype  \n",
      "---  ------      --------------  -----  \n",
      " 0   date        5700 non-null   object \n",
      " 1   nvda_open   5700 non-null   float64\n",
      " 2   nvda_close  5700 non-null   float64\n",
      "dtypes: float64(2), object(1)\n",
      "memory usage: 133.7+ KB\n",
      "None\n",
      "****************************************\n",
      "<class 'pandas.core.frame.DataFrame'>\n",
      "RangeIndex: 2557 entries, 0 to 2556\n",
      "Data columns (total 3 columns):\n",
      " #   Column     Non-Null Count  Dtype  \n",
      "---  ------     --------------  -----  \n",
      " 0   date       2557 non-null   object \n",
      " 1   snp_open   2557 non-null   float64\n",
      " 2   snp_close  2557 non-null   float64\n",
      "dtypes: float64(2), object(1)\n",
      "memory usage: 60.1+ KB\n",
      "None\n",
      "****************************************\n",
      "<class 'pandas.core.frame.DataFrame'>\n",
      "RangeIndex: 1940 entries, 0 to 1939\n",
      "Data columns (total 3 columns):\n",
      " #   Column     Non-Null Count  Dtype  \n",
      "---  ------     --------------  -----  \n",
      " 0   date       1940 non-null   object \n",
      " 1   nas_open   1940 non-null   float64\n",
      " 2   nas_close  1940 non-null   float64\n",
      "dtypes: float64(2), object(1)\n",
      "memory usage: 45.6+ KB\n",
      "None\n",
      "****************************************\n",
      "<class 'pandas.core.frame.DataFrame'>\n",
      "RangeIndex: 10479 entries, 0 to 10478\n",
      "Data columns (total 3 columns):\n",
      " #   Column     Non-Null Count  Dtype  \n",
      "---  ------     --------------  -----  \n",
      " 0   date       10479 non-null  object \n",
      " 1   amd_open   10479 non-null  float64\n",
      " 2   amd_close  10479 non-null  float64\n",
      "dtypes: float64(2), object(1)\n",
      "memory usage: 245.7+ KB\n",
      "None\n",
      "****************************************\n"
     ]
    }
   ],
   "source": [
    "#checking for null values and data types in the dataframe\n",
    "for i,j in data.items():\n",
    "    print(j.info())\n",
    "    print('*'*40)"
   ]
  },
  {
   "cell_type": "code",
   "execution_count": 13,
   "id": "0b351bab-33be-46bd-8c8a-af9a95e16f14",
   "metadata": {},
   "outputs": [],
   "source": [
    "#saving modified dataframes\n",
    "for i,j in data.items():\n",
    "    j.to_csv(f'../../data/price_index_data/mod/{i}_prices.csv')"
   ]
  }
 ],
 "metadata": {
  "kernelspec": {
   "display_name": "Python 3",
   "language": "python",
   "name": "python3"
  },
  "language_info": {
   "codemirror_mode": {
    "name": "ipython",
    "version": 3
   },
   "file_extension": ".py",
   "mimetype": "text/x-python",
   "name": "python",
   "nbconvert_exporter": "python",
   "pygments_lexer": "ipython3",
   "version": "3.8.8"
  }
 },
 "nbformat": 4,
 "nbformat_minor": 5
}
