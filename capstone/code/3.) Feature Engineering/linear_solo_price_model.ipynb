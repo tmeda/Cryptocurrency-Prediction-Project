{
 "cells": [
  {
   "cell_type": "code",
   "execution_count": 1,
   "id": "cf2cc514-0318-46a2-b386-a45d028a18c2",
   "metadata": {},
   "outputs": [],
   "source": [
    "import glob\n",
    "import numpy as np\n",
    "import pandas as pd"
   ]
  },
  {
   "cell_type": "markdown",
   "id": "e3198d96-d4d5-46a0-b9db-e71541c30412",
   "metadata": {},
   "source": [
    "In this notebook I prepare data for a model where i use different lags to predict future prices in a specific index."
   ]
  },
  {
   "cell_type": "code",
   "execution_count": 2,
   "id": "c431babc-d464-4b3f-98c0-ee79766bd0f6",
   "metadata": {},
   "outputs": [],
   "source": [
    "#**IMPORTING DATA**\n",
    "files=glob.glob('../../data/price_index_data/mod/*')\n",
    "\n",
    "#getting the prices history from each index\n",
    "data=[]\n",
    "for file in files:\n",
    "    data.append(pd.read_csv(file))\n",
    "\n",
    "#converting the 'date' columns to datetime type\n",
    "for i in data:\n",
    "    i['date']=pd.to_datetime(i['date'])\n",
    "\n",
    "#combining the data together\n",
    "df=data[0]\n",
    "for i in data[1:]:\n",
    "    df=df.merge(i,on='date')\n",
    "\n",
    "#removing the date column and setting it as the index\n",
    "df.index=df['date']\n",
    "df.drop(columns=['date'],inplace=True)\n",
    "\n",
    "#removing unecessary columns\n",
    "cols=[i for i in list(df.columns) if 'Unnamed' not in i]\n",
    "df=df[cols]\n",
    "df=df.dropna()"
   ]
  },
  {
   "cell_type": "code",
   "execution_count": 3,
   "id": "f764b433-51e6-4c26-b7b2-53c711ebd80a",
   "metadata": {},
   "outputs": [],
   "source": [
    "targets=['bit_close','eth_close','ada_close','bnb_close']"
   ]
  },
  {
   "cell_type": "markdown",
   "id": "0b8d0caf-5e1e-4746-a640-8b6c8cfd2ee0",
   "metadata": {},
   "source": [
    "There was a lot of auto correlation so different lags will help the linear model make its predictions."
   ]
  },
  {
   "cell_type": "code",
   "execution_count": 4,
   "id": "3ac65a60-f59f-4164-b4bf-5284a3e65a43",
   "metadata": {},
   "outputs": [],
   "source": [
    "features=[]\n",
    "for target in targets:\n",
    "    y=pd.DataFrame(df[target])\n",
    "    for lags in range(1,8):\n",
    "        y[f'lag_{lags}']=y[target].shift(lags)\n",
    "    features.append(y.dropna())"
   ]
  },
  {
   "cell_type": "code",
   "execution_count": 5,
   "id": "95278ae0-0ae7-4625-a901-b9c59420c340",
   "metadata": {},
   "outputs": [],
   "source": [
    "for i,j in enumerate(features):\n",
    "    j.to_csv(f'../../data/train/{targets[i]}_solo_linear_model.csv')"
   ]
  }
 ],
 "metadata": {
  "kernelspec": {
   "display_name": "Python 3",
   "language": "python",
   "name": "python3"
  },
  "language_info": {
   "codemirror_mode": {
    "name": "ipython",
    "version": 3
   },
   "file_extension": ".py",
   "mimetype": "text/x-python",
   "name": "python",
   "nbconvert_exporter": "python",
   "pygments_lexer": "ipython3",
   "version": "3.8.8"
  }
 },
 "nbformat": 4,
 "nbformat_minor": 5
}
