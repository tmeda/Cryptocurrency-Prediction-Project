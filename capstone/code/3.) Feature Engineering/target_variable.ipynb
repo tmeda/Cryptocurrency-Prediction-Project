{
 "cells": [
  {
   "cell_type": "code",
   "execution_count": 1,
   "id": "d4e5a181-152c-48db-a56c-97b73a2b3b47",
   "metadata": {},
   "outputs": [],
   "source": [
    "import glob\n",
    "import numpy as np\n",
    "import pandas as pd"
   ]
  },
  {
   "cell_type": "code",
   "execution_count": 2,
   "id": "8592219b-0630-443e-a729-f802e28cece7",
   "metadata": {},
   "outputs": [],
   "source": [
    "#**IMPORTING DATA**\n",
    "files=glob.glob('../../data/price_index_data/mod/*')\n",
    "\n",
    "#getting the prices history from each index\n",
    "data=[]\n",
    "for file in files:\n",
    "    data.append(pd.read_csv(file))\n",
    "\n",
    "#converting the 'date' columns to datetime type\n",
    "for i in data:\n",
    "    i['date']=pd.to_datetime(i['date'])\n",
    "\n",
    "#combining the data together\n",
    "df=data[0]\n",
    "for i in data[1:]:\n",
    "    df=df.merge(i,on='date')\n",
    "\n",
    "#removing the date column and setting it as the index\n",
    "df.index=df['date']\n",
    "df.drop(columns=['date'],inplace=True)\n",
    "\n",
    "#removing unecessary columns\n",
    "cols=[i for i in list(df.columns) if 'Unnamed' not in i]\n",
    "df=df[cols]\n",
    "df=df.dropna()"
   ]
  },
  {
   "cell_type": "code",
   "execution_count": 3,
   "id": "b4ea6239-0108-4e7c-8add-c5040c342871",
   "metadata": {},
   "outputs": [],
   "source": [
    "targets=['bit_close','eth_close','ada_close','bnb_close']\n",
    "df=df[targets]"
   ]
  },
  {
   "cell_type": "code",
   "execution_count": 4,
   "id": "d37f47c3-5f92-4b0c-ad0a-e0813d991487",
   "metadata": {},
   "outputs": [],
   "source": [
    "df[-10:].to_csv(f'../../data/predictions/targets.csv')"
   ]
  }
 ],
 "metadata": {
  "kernelspec": {
   "display_name": "Python 3",
   "language": "python",
   "name": "python3"
  },
  "language_info": {
   "codemirror_mode": {
    "name": "ipython",
    "version": 3
   },
   "file_extension": ".py",
   "mimetype": "text/x-python",
   "name": "python",
   "nbconvert_exporter": "python",
   "pygments_lexer": "ipython3",
   "version": "3.8.8"
  }
 },
 "nbformat": 4,
 "nbformat_minor": 5
}
