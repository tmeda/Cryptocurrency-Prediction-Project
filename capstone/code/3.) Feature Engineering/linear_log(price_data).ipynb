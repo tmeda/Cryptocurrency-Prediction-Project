{
 "cells": [
  {
   "cell_type": "code",
   "execution_count": 1,
   "id": "89bc4746-68ca-4270-b532-d35f80d066a3",
   "metadata": {},
   "outputs": [],
   "source": [
    "import glob\n",
    "import pickle\n",
    "import numpy as np\n",
    "import pandas as pd\n",
    "import statsmodels.api as sm"
   ]
  },
  {
   "cell_type": "code",
   "execution_count": 2,
   "id": "76372d41-24fe-438d-bd08-4badf4753575",
   "metadata": {},
   "outputs": [],
   "source": [
    "#**IMPORTING DATA**\n",
    "files=glob.glob('../../data/price_index_data/mod/*')\n",
    "\n",
    "#getting the prices history from each index\n",
    "data=[]\n",
    "for file in files:\n",
    "    data.append(pd.read_csv(file))\n",
    "\n",
    "#converting the 'date' columns to datetime type\n",
    "for i in data:\n",
    "    i['date']=pd.to_datetime(i['date'])\n",
    "\n",
    "#combining the data together\n",
    "df=data[0]\n",
    "for i in data[1:]:\n",
    "    df=df.merge(i,on='date')\n",
    "\n",
    "#removing the date column and setting it as the index\n",
    "df.index=df['date']\n",
    "df.drop(columns=['date'],inplace=True)\n",
    "\n",
    "#removing unecessary columns\n",
    "cols=[i for i in list(df.columns) if 'Unnamed' not in i]\n",
    "df=df[cols]\n",
    "df=df.dropna()"
   ]
  },
  {
   "cell_type": "code",
   "execution_count": 3,
   "id": "47685a0b-867f-4e7f-8979-f2861482350b",
   "metadata": {},
   "outputs": [],
   "source": [
    "cols=[i for i in df.columns if 'close' in i]\n",
    "df=df[cols]"
   ]
  },
  {
   "cell_type": "code",
   "execution_count": 4,
   "id": "9ed3c08e-7373-4964-bdbe-fbfc6bf90624",
   "metadata": {},
   "outputs": [],
   "source": [
    "data={}\n",
    "targets=['bit_close','eth_close','ada_close','bnb_close']\n",
    "for target in targets:\n",
    "    x=df.drop(columns=target)\n",
    "    y=df[target]**(-0.5)\n",
    "    temp=pd.DataFrame()\n",
    "    for col in x.columns:\n",
    "        for i in range(2,10):\n",
    "            temp[f'{col}**{i}']=x[col]**i\n",
    "    temp[target]=y\n",
    "    temp1=pd.DataFrame(temp.corr()[target])\n",
    "    temp1=temp1.sort_values(by=target,ascending=False)\n",
    "    temp1=temp1[(temp1[target]>=0.5) & (temp1[target]<1)]\n",
    "    res=[]\n",
    "    for cols in x.columns:\n",
    "        ind=0\n",
    "        while ind<len(temp1.index):\n",
    "            if str(cols) in list(temp1.index)[ind]:\n",
    "                res.append(list(temp1.index)[ind])\n",
    "                cols=len(temp1.index)\n",
    "            else:\n",
    "                ind+=1\n",
    "    temp=temp[res]\n",
    "    temp=pd.DataFrame(temp, columns=temp.columns)\n",
    "    x=x.merge(temp,on=x.index)\n",
    "    x.drop(columns='key_0',inplace=True)\n",
    "    x=x.dropna()\n",
    "    data[target]=x\n",
    "for i,j in data.items():       \n",
    "    for k in range(1,11):\n",
    "        j['day_'+str(k)]=df[i].shift(-k).values\n",
    "    data[i]=j.dropna()   \n",
    "\n",
    "with open('../../data/train/inear_log(price_data).pkl', 'wb') as f:\n",
    "    pickle.dump(data,f)"
   ]
  }
 ],
 "metadata": {
  "kernelspec": {
   "display_name": "Python 3",
   "language": "python",
   "name": "python3"
  },
  "language_info": {
   "codemirror_mode": {
    "name": "ipython",
    "version": 3
   },
   "file_extension": ".py",
   "mimetype": "text/x-python",
   "name": "python",
   "nbconvert_exporter": "python",
   "pygments_lexer": "ipython3",
   "version": "3.8.8"
  }
 },
 "nbformat": 4,
 "nbformat_minor": 5
}
