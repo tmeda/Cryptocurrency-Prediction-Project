{
 "cells": [
  {
   "cell_type": "code",
   "execution_count": 1,
   "id": "0eb83d13-98ce-4814-af7d-83894990bb44",
   "metadata": {
    "tags": []
   },
   "outputs": [],
   "source": [
    "import glob\n",
    "import numpy as np\n",
    "import pandas as pd\n",
    "import statsmodels.api as sm\n",
    "from statsmodels.tsa.arima_model import ARIMA\n",
    "import matplotlib.pyplot as plt\n",
    "from sklearn.model_selection import train_test_split\n",
    "\n",
    "import warnings\n",
    "warnings.filterwarnings(\"ignore\")"
   ]
  },
  {
   "cell_type": "code",
   "execution_count": 2,
   "id": "1c9f6fc3-de1f-4df6-a4d8-39712c0ad0da",
   "metadata": {},
   "outputs": [],
   "source": [
    "df=pd.read_csv(f'./../../data/train/arima_model.csv')\n",
    "df=df.set_index('date')"
   ]
  },
  {
   "cell_type": "code",
   "execution_count": 3,
   "id": "b57dce00-f64b-474c-abe6-9d1a0467da60",
   "metadata": {},
   "outputs": [],
   "source": [
    "targets=['bit_close','eth_close','ada_close','bnb_close']\n",
    "df=df[targets]"
   ]
  },
  {
   "cell_type": "code",
   "execution_count": 4,
   "id": "45b71199-38c6-4ac3-a734-f784ef9c9113",
   "metadata": {},
   "outputs": [],
   "source": [
    "df.index=pd.to_datetime(df.index)"
   ]
  },
  {
   "cell_type": "code",
   "execution_count": 5,
   "id": "448eb485-f31a-4afe-b74d-94a49cc9f241",
   "metadata": {},
   "outputs": [
    {
     "name": "stdout",
     "output_type": "stream",
     "text": [
      "bit_close AIC: -3034.7640516431316\n",
      "eth_close AIC: -2534.248723654989\n",
      "ada_close AIC: -1865.2402535231881\n",
      "bnb_close AIC: -2167.937472905454\n"
     ]
    }
   ],
   "source": [
    "predictions=pd.DataFrame()\n",
    "for column in df.columns:\n",
    "    data=df[column]\n",
    "    train, test = train_test_split(data,test_size = 0.011,shuffle = False)\n",
    "    #https://stackoverflow.com/questions/58510659/error-valuewarning-a-date-index-has-been-provided-but-it-has-no-associated-fr/58511282\n",
    "    train.index = pd.DatetimeIndex(train.index).to_period('D')\n",
    "    test.index = pd.DatetimeIndex(test.index).to_period('D')\n",
    "\n",
    "    best_aic = 99 * (10 ** 16)\n",
    "    best_p = 0\n",
    "    best_q = 0\n",
    "\n",
    "    # Use nested for loop to iterate over values of p and q.\n",
    "    for p in range(5):\n",
    "        for q in range(5):\n",
    "            # Insert try and except statements.\n",
    "            try:\n",
    "                # Instantiate ARIMA model.\n",
    "                arima = ARIMA(endog = train, # endog = y - variable\n",
    "                             order = (p, 1, q)) # values of p, d, q\n",
    "\n",
    "                # Fit ARIMA model.\n",
    "                model = arima.fit()\n",
    "\n",
    "                # Is my current model's AIC better than our best_aic?\n",
    "                if model.aic < best_aic:\n",
    "                    # If so, let's overwrite best_aic, best_p, and best_q.\n",
    "                    best_aic = model.aic\n",
    "                    best_p = p\n",
    "                    best_q = q\n",
    "\n",
    "            except:\n",
    "                pass\n",
    "    model = ARIMA(endog = train,\n",
    "                 order = (best_p, 1, best_q))\n",
    "    \n",
    "\n",
    "    # Fit ARIMA model.\n",
    "    arima = model.fit()\n",
    "    \n",
    "    print(column,'AIC:',arima.aic)\n",
    "\n",
    "    # Generate predictions based on test set.\n",
    "    preds = model.predict(params = arima.params,\n",
    "                          start = test.index[0],\n",
    "                          end = test.index[-1])\n",
    "    predictions[column]=preds[:11]"
   ]
  },
  {
   "cell_type": "code",
   "execution_count": 6,
   "id": "a513a304-cb59-4033-a17a-6683a2b833ca",
   "metadata": {},
   "outputs": [],
   "source": [
    "predictions=predictions.set_index(test.index)"
   ]
  },
  {
   "cell_type": "code",
   "execution_count": 7,
   "id": "922dd9d0-ad9a-49e5-86a4-8d8f6a815aa4",
   "metadata": {},
   "outputs": [],
   "source": [
    "temp=[]\n",
    "for i in predictions.columns:\n",
    "    temp.append(i+'_univariate_arima')\n",
    "predictions.columns=temp"
   ]
  },
  {
   "cell_type": "code",
   "execution_count": 8,
   "id": "9d52a6dd-b24e-491e-9cef-6f05e6e3a4e5",
   "metadata": {},
   "outputs": [],
   "source": [
    "predictions.to_csv(f'../../data/predictions/univariate_arima.csv')"
   ]
  },
  {
   "cell_type": "code",
   "execution_count": 9,
   "id": "37d739dd-fe71-4966-8612-a5e80a75979f",
   "metadata": {},
   "outputs": [
    {
     "data": {
      "text/plain": [
       "-9602.190501726764"
      ]
     },
     "execution_count": 9,
     "metadata": {},
     "output_type": "execute_result"
    }
   ],
   "source": [
    "-3034.7640516431316+ -2534.248723654989+ -1865.2402535231881+ -2167.937472905454"
   ]
  },
  {
   "cell_type": "code",
   "execution_count": 10,
   "id": "23061a46-731f-4a0d-a9fd-27c11a455ecd",
   "metadata": {},
   "outputs": [
    {
     "data": {
      "text/plain": [
       "-2400.547625431691"
      ]
     },
     "execution_count": 10,
     "metadata": {},
     "output_type": "execute_result"
    }
   ],
   "source": [
    "-9602.190501726764/4"
   ]
  },
  {
   "cell_type": "code",
   "execution_count": null,
   "id": "08a1d90b-6078-40b4-9e61-ad8fa22042f2",
   "metadata": {},
   "outputs": [],
   "source": []
  }
 ],
 "metadata": {
  "kernelspec": {
   "display_name": "Python 3",
   "language": "python",
   "name": "python3"
  },
  "language_info": {
   "codemirror_mode": {
    "name": "ipython",
    "version": 3
   },
   "file_extension": ".py",
   "mimetype": "text/x-python",
   "name": "python",
   "nbconvert_exporter": "python",
   "pygments_lexer": "ipython3",
   "version": "3.8.8"
  }
 },
 "nbformat": 4,
 "nbformat_minor": 5
}
